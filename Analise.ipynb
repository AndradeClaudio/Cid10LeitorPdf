{
 "metadata": {
  "language_info": {
   "codemirror_mode": {
    "name": "ipython",
    "version": 3
   },
   "file_extension": ".py",
   "mimetype": "text/x-python",
   "name": "python",
   "nbconvert_exporter": "python",
   "pygments_lexer": "ipython3",
   "version": "3.8.7-final"
  },
  "orig_nbformat": 2,
  "kernelspec": {
   "name": "python3",
   "display_name": "Python 3.8.7 64-bit ('venv')",
   "metadata": {
    "interpreter": {
     "hash": "662864e56f1a66ca488c8a555074fad2defac2bbe9d68bb4d4f0d8f034c38ba4"
    }
   }
  }
 },
 "nbformat": 4,
 "nbformat_minor": 2,
 "cells": [
  {
   "cell_type": "code",
   "execution_count": 23,
   "metadata": {},
   "outputs": [],
   "source": [
    "import re\n",
    "import pdfplumber\n",
    "import pandas as pd\n",
    "from collections import namedtuple\n",
    "#https://www.youtube.com/watch?v=syEfR1QIGcY"
   ]
  },
  {
   "cell_type": "code",
   "execution_count": 24,
   "metadata": {},
   "outputs": [],
   "source": [
    "Line = namedtuple(\"Line\",\"CID10 DESC JANEIRO FEVEREIRO MARÇO ABRIL MAIO JUNHO JULHO AGOSTO SETEMBRO OUTUBRO NOVEMBRO DEZEMBRO\")\n",
    "#Line = namedtuple(\"Line\",\"JANEIRO FEVEREIRO MARÇO ABRIL MAIO JUNHO JULHO AGOSTO SETEMBRO OUTUBRO NOVEMBRO DEZEMBRO\")\n",
    "#Line = namedtuple(\"Line\",\"CID10 DESC\")\n"
   ]
  },
  {
   "cell_type": "code",
   "execution_count": 25,
   "metadata": {},
   "outputs": [
    {
     "output_type": "stream",
     "name": "stdout",
     "text": [
      ":\nAlgumas doenças infecciosas e parasitárias (A00-B99)\n176 183 200 209 174 171 165 204 241 221 183 159\n<class '__main__.Line'>\n['176', '183', '200', '209', '174', '171', '165', '204', '241', '221', '183', '159']\n"
     ]
    }
   ],
   "source": [
    "#line_sub = re.sub(r'[]','')\n",
    "line_re =re.compile(r'(^\\w{1}\\d{2}[*†]*|[^\\-\\w]) ([\\s\\S]+(?<=[A-Za-z(),[\\]\\\"áàâãéèêíïóôõöúçñÁÀÂÃÉÈÊÍÏÓÔÕÖÚÇÑ])) ([\\s\\S]+(?![0-9 -]))', flags=2)\n",
    "\n",
    "#line_re.search('A15 Tuberculose respiratória, com confirmação bacteriológica e his 47 49 42 29 36 36 41 26 38 35 32 37').group(3)\n",
    "#texto =\"A15 Tuberculose respiratória, com confirmação bacteriológica e his 47 49 42 29 36 36 41 26 38 35 32 37\"\n",
    "#texto =\"A17† Tuberculose do sistema nervoso 1 – – 1 –––3 – – – –\"\n",
    "#texto=\"M54 Dorsalgia 3.498 3.353 3.916 4.418 3.951 3.829 3.896 3.795 4.595 4.613 3.940 3.439\"\n",
    "texto=\"– Ignorado 27 24 36 35 27 45 34 59 42 37 44 44\"\n",
    "texto=\"Capítulo I: Algumas doenças infecciosas e parasitárias (A00-B99) 176 183 200 209 174 171 165 204 241 221 183 159\"\n",
    "#texto=\"I00-I02 Febre reumática aguda – ––––––– –– – –\"\n",
    "print((line_re.search(texto).group(1)))\n",
    "print((line_re.search(texto).group(2)))\n",
    "print((line_re.search(texto).group(3)))\n",
    "comp =line_re.search(texto)\n",
    "print(Line)\n",
    "CID, CID_DES, DADOS = comp.group(1), comp.group(2) , comp.group(3)\n",
    "DADOS = DADOS.replace(\".\",\"\")\n",
    "items = DADOS.split()\n",
    "print((items))\n",
    "\n",
    "#line_re.search('G35-G37 Doenças desmielinizantes do sistema nervoso central').group(1)"
   ]
  },
  {
   "cell_type": "code",
   "execution_count": 26,
   "metadata": {},
   "outputs": [
    {
     "output_type": "stream",
     "name": "stdout",
     "text": [
      "data//2006_Previdenciarios.pdf\n"
     ]
    }
   ],
   "source": [
    "cNome='2006_Previdenciarios'\n",
    "file='data//'+cNome+'.pdf'\n",
    "print(file)"
   ]
  },
  {
   "cell_type": "code",
   "execution_count": 16,
   "metadata": {
    "tags": []
   },
   "outputs": [
    {
     "output_type": "stream",
     "name": "stdout",
     "text": [
      "Acompanhamento Mensal dos Benefícios Auxílios-Doença Previdenciários Concedidos segundo os Códigos da CID-10 – Ano 2006\n",
      "2006\n",
      "['2006']\n",
      "– Ignorado      6.138      6.145      7.597     6 .737      8.493      7.871      7.928   1 0.707      9 .433   1 0.768    1 0.591       9 .928\n",
      "     6138      6145      7597     6737      8493      7871      7928   10707      9433   10768    10591       9928\n",
      "['6138', '6145', '7597', '6737', '8493', '7871', '7928', '10707', '9433', '10768', '10591', '9928']\n",
      "Acompanhamento Mensal dos Benefícios Auxílios-Doença Acidentários Concedidos segundo os Códigos da CID-10 – Ano 2006\n",
      "2006\n",
      "['2006']\n",
      "– Ignorado    1.288     1 .119    1.303   1 .165   1 .428   1 .409   1 .299   1 .654      1 .351    1.790      1 .491       1 .320\n",
      "   1288     1119    1303   1165   1428   1409   1299   1654      1351    1790      1491       1320\n",
      "['1288', '1119', '1303', '1165', '1428', '1409', '1299', '1654', '1351', '1790', '1491', '1320']\n",
      "– Ano 2 Setembr 10.58                                                             3            15          6            1            1            2            1           \n",
      "1058                                                             3            15          6            1            1            2            1           \n",
      "['1058', '3', '15', '6', '1', '1', '2', '1']\n"
     ]
    }
   ],
   "source": [
    "lines =[]\n",
    "total_check =0 \n",
    "with pdfplumber.open(file) as pdf:\n",
    "    pages = pdf.pages\n",
    "    for page in pdf.pages:\n",
    "        text= page.extract_text(x_tolerance=5, y_tolerance=2)\n",
    "        for line in text.split('\\n'):\n",
    "            comp =line_re.search(line)\n",
    "            if comp:\n",
    "                CID, CID_DES, DADOS = comp.group(1), comp.group(2) , comp.group(3)\n",
    "                #CID_DES = '\"'+CID_DES+'\"'\n",
    "                #linha = re.sub('(?<=.)(?!$)',' ',DADOS)\n",
    "                DADOS = DADOS.replace(\".\",\"\")\n",
    "                DADOS = re.sub(r'(\\d)\\s(\\d)', r'\\1\\2', DADOS)\n",
    "                items = DADOS.split()\n",
    "                if(CID=='–'):\n",
    "                    print(line)\n",
    "                    print(DADOS)\n",
    "                    print(items)\n",
    "                if(len(items)==12):\n",
    "                    #print(Line(CID,CID_DES,*items))\n",
    "                    lines.append(Line(CID,CID_DES,*items))"
   ]
  },
  {
   "cell_type": "code",
   "execution_count": 17,
   "metadata": {},
   "outputs": [
    {
     "output_type": "execute_result",
     "data": {
      "text/plain": [
       "CID10        object\n",
       "DESC         object\n",
       "JANEIRO       int64\n",
       "FEVEREIRO     int64\n",
       "MARÇO         int64\n",
       "ABRIL         int64\n",
       "MAIO          int64\n",
       "JUNHO         int64\n",
       "JULHO         int64\n",
       "AGOSTO        int64\n",
       "SETEMBRO      int64\n",
       "OUTUBRO       int64\n",
       "NOVEMBRO      int64\n",
       "DEZEMBRO      int64\n",
       "dtype: object"
      ]
     },
     "metadata": {},
     "execution_count": 17
    }
   ],
   "source": [
    "dfCat =  pd.read_csv(\"data//CID-10-CAPITULOS.csv\",delimiter=\";\",encoding='cp1252')\n",
    "dfCat.drop(columns='Unnamed: 5',axis=1,inplace=True)\n",
    "df = pd.DataFrame(lines)\n",
    "#df.set_index('CID10',inplace=True)\n",
    "cols = df.iloc[:,2:len(df)].columns\n",
    "df.iloc[:,2:len(df)].replace(\"–\",0,inplace=True)\n",
    "df[cols] = df[cols].apply(pd.to_numeric,errors='coerce')\n",
    "df.dtypes"
   ]
  },
  {
   "cell_type": "code",
   "execution_count": 18,
   "metadata": {},
   "outputs": [],
   "source": [
    "df = df.assign(key=1).merge(dfCat.assign(key=1), on='key')\\\n",
    "                 .drop(columns='key')\\\n",
    "                 .query(\"CID10.between(CATINIC,CATFIM)|CID10.str.contains('–')\")\\\n",
    "                 .drop(columns=['CATINIC', 'CATFIM','DESCRICAO','DESCRABREV'])\\\n",
    "                 .reset_index(drop=True)\n",
    "df.drop_duplicates(subset=['CID10','JANEIRO','FEVEREIRO','MARÇO','ABRIL','MAIO','JUNHO','JULHO','AGOSTO','SETEMBRO','OUTUBRO','NOVEMBRO','DEZEMBRO'],keep='first',inplace=True)"
   ]
  },
  {
   "cell_type": "code",
   "execution_count": 19,
   "metadata": {},
   "outputs": [
    {
     "output_type": "execute_result",
     "data": {
      "text/plain": [
       "5762"
      ]
     },
     "metadata": {},
     "execution_count": 19
    }
   ],
   "source": [
    "df[df['NUMCAP'] ==2]['JANEIRO'].sum()\n"
   ]
  },
  {
   "cell_type": "code",
   "execution_count": 20,
   "metadata": {},
   "outputs": [
    {
     "output_type": "execute_result",
     "data": {
      "text/plain": [
       "191250"
      ]
     },
     "metadata": {},
     "execution_count": 20
    }
   ],
   "source": [
    "df['SETEMBRO'].sum()"
   ]
  },
  {
   "cell_type": "code",
   "execution_count": 21,
   "metadata": {},
   "outputs": [],
   "source": [
    "df = df.append(df.sum(numeric_only=True), ignore_index=True)\n",
    "df.to_excel(cNome+\".xlsx\",sheet_name='Acidentarios')\n",
    "df.to_csv(cNome+\".csv\")"
   ]
  },
  {
   "cell_type": "code",
   "execution_count": 22,
   "metadata": {},
   "outputs": [
    {
     "output_type": "execute_result",
     "data": {
      "text/plain": [
       "     CID10                                               DESC   JANEIRO  \\\n",
       "0      A00                                             Cólera       0.0   \n",
       "1      A01                       Febres tifóide e paratifóide       2.0   \n",
       "2      A02                    Outras infecções por Salmonella       1.0   \n",
       "3      A03                                         Shiguelose       0.0   \n",
       "4      A04           Outras infecções intestinais bacterianas       4.0   \n",
       "...    ...                                                ...       ...   \n",
       "3146   Z54                                      Convalescença      16.0   \n",
       "3147   Z97         Presença de outros dispositivos protéticos       0.0   \n",
       "3148   Z99  Dependência de máquinas e dispositivos capacit...       0.0   \n",
       "3149     –                                           Ignorado    1288.0   \n",
       "3150   NaN                                                NaN  179352.0   \n",
       "\n",
       "      FEVEREIRO     MARÇO     ABRIL      MAIO     JUNHO     JULHO    AGOSTO  \\\n",
       "0           0.0       1.0       0.0       0.0       0.0       0.0       1.0   \n",
       "1           1.0       2.0       0.0       1.0       1.0       2.0       0.0   \n",
       "2           3.0       2.0       1.0       1.0       1.0       0.0       1.0   \n",
       "3           0.0       0.0       0.0       0.0       0.0       0.0       0.0   \n",
       "4           4.0       0.0       4.0       2.0       4.0       1.0       4.0   \n",
       "...         ...       ...       ...       ...       ...       ...       ...   \n",
       "3146       10.0       4.0       0.0       2.0       1.0       1.0       0.0   \n",
       "3147        1.0       0.0       0.0       0.0       0.0       0.0       0.0   \n",
       "3148        0.0       0.0       0.0       0.0       0.0       0.0       0.0   \n",
       "3149     1119.0    1303.0    1165.0    1428.0    1409.0    1299.0    1654.0   \n",
       "3150   167920.0  199607.0  172391.0  210247.0  191641.0  186290.0  240518.0   \n",
       "\n",
       "      SETEMBRO   OUTUBRO  NOVEMBRO  DEZEMBRO   NUMCAP  \n",
       "0          1.0       0.0       0.0       0.0      1.0  \n",
       "1          3.0       3.0       1.0       2.0      1.0  \n",
       "2          0.0       0.0       1.0       1.0      1.0  \n",
       "3          0.0       0.0       1.0       0.0      1.0  \n",
       "4          1.0       1.0       2.0       2.0      1.0  \n",
       "...        ...       ...       ...       ...      ...  \n",
       "3146       0.0       1.0       0.0       0.0     21.0  \n",
       "3147       0.0       0.0       0.0       0.0     21.0  \n",
       "3148       0.0       0.0       0.0       0.0     21.0  \n",
       "3149    1351.0    1790.0    1491.0    1320.0      1.0  \n",
       "3150  191250.0  218821.0  195823.0  175808.0  36017.0  \n",
       "\n",
       "[3151 rows x 15 columns]"
      ],
      "text/html": "<div>\n<style scoped>\n    .dataframe tbody tr th:only-of-type {\n        vertical-align: middle;\n    }\n\n    .dataframe tbody tr th {\n        vertical-align: top;\n    }\n\n    .dataframe thead th {\n        text-align: right;\n    }\n</style>\n<table border=\"1\" class=\"dataframe\">\n  <thead>\n    <tr style=\"text-align: right;\">\n      <th></th>\n      <th>CID10</th>\n      <th>DESC</th>\n      <th>JANEIRO</th>\n      <th>FEVEREIRO</th>\n      <th>MARÇO</th>\n      <th>ABRIL</th>\n      <th>MAIO</th>\n      <th>JUNHO</th>\n      <th>JULHO</th>\n      <th>AGOSTO</th>\n      <th>SETEMBRO</th>\n      <th>OUTUBRO</th>\n      <th>NOVEMBRO</th>\n      <th>DEZEMBRO</th>\n      <th>NUMCAP</th>\n    </tr>\n  </thead>\n  <tbody>\n    <tr>\n      <th>0</th>\n      <td>A00</td>\n      <td>Cólera</td>\n      <td>0.0</td>\n      <td>0.0</td>\n      <td>1.0</td>\n      <td>0.0</td>\n      <td>0.0</td>\n      <td>0.0</td>\n      <td>0.0</td>\n      <td>1.0</td>\n      <td>1.0</td>\n      <td>0.0</td>\n      <td>0.0</td>\n      <td>0.0</td>\n      <td>1.0</td>\n    </tr>\n    <tr>\n      <th>1</th>\n      <td>A01</td>\n      <td>Febres tifóide e paratifóide</td>\n      <td>2.0</td>\n      <td>1.0</td>\n      <td>2.0</td>\n      <td>0.0</td>\n      <td>1.0</td>\n      <td>1.0</td>\n      <td>2.0</td>\n      <td>0.0</td>\n      <td>3.0</td>\n      <td>3.0</td>\n      <td>1.0</td>\n      <td>2.0</td>\n      <td>1.0</td>\n    </tr>\n    <tr>\n      <th>2</th>\n      <td>A02</td>\n      <td>Outras infecções por Salmonella</td>\n      <td>1.0</td>\n      <td>3.0</td>\n      <td>2.0</td>\n      <td>1.0</td>\n      <td>1.0</td>\n      <td>1.0</td>\n      <td>0.0</td>\n      <td>1.0</td>\n      <td>0.0</td>\n      <td>0.0</td>\n      <td>1.0</td>\n      <td>1.0</td>\n      <td>1.0</td>\n    </tr>\n    <tr>\n      <th>3</th>\n      <td>A03</td>\n      <td>Shiguelose</td>\n      <td>0.0</td>\n      <td>0.0</td>\n      <td>0.0</td>\n      <td>0.0</td>\n      <td>0.0</td>\n      <td>0.0</td>\n      <td>0.0</td>\n      <td>0.0</td>\n      <td>0.0</td>\n      <td>0.0</td>\n      <td>1.0</td>\n      <td>0.0</td>\n      <td>1.0</td>\n    </tr>\n    <tr>\n      <th>4</th>\n      <td>A04</td>\n      <td>Outras infecções intestinais bacterianas</td>\n      <td>4.0</td>\n      <td>4.0</td>\n      <td>0.0</td>\n      <td>4.0</td>\n      <td>2.0</td>\n      <td>4.0</td>\n      <td>1.0</td>\n      <td>4.0</td>\n      <td>1.0</td>\n      <td>1.0</td>\n      <td>2.0</td>\n      <td>2.0</td>\n      <td>1.0</td>\n    </tr>\n    <tr>\n      <th>...</th>\n      <td>...</td>\n      <td>...</td>\n      <td>...</td>\n      <td>...</td>\n      <td>...</td>\n      <td>...</td>\n      <td>...</td>\n      <td>...</td>\n      <td>...</td>\n      <td>...</td>\n      <td>...</td>\n      <td>...</td>\n      <td>...</td>\n      <td>...</td>\n      <td>...</td>\n    </tr>\n    <tr>\n      <th>3146</th>\n      <td>Z54</td>\n      <td>Convalescença</td>\n      <td>16.0</td>\n      <td>10.0</td>\n      <td>4.0</td>\n      <td>0.0</td>\n      <td>2.0</td>\n      <td>1.0</td>\n      <td>1.0</td>\n      <td>0.0</td>\n      <td>0.0</td>\n      <td>1.0</td>\n      <td>0.0</td>\n      <td>0.0</td>\n      <td>21.0</td>\n    </tr>\n    <tr>\n      <th>3147</th>\n      <td>Z97</td>\n      <td>Presença de outros dispositivos protéticos</td>\n      <td>0.0</td>\n      <td>1.0</td>\n      <td>0.0</td>\n      <td>0.0</td>\n      <td>0.0</td>\n      <td>0.0</td>\n      <td>0.0</td>\n      <td>0.0</td>\n      <td>0.0</td>\n      <td>0.0</td>\n      <td>0.0</td>\n      <td>0.0</td>\n      <td>21.0</td>\n    </tr>\n    <tr>\n      <th>3148</th>\n      <td>Z99</td>\n      <td>Dependência de máquinas e dispositivos capacit...</td>\n      <td>0.0</td>\n      <td>0.0</td>\n      <td>0.0</td>\n      <td>0.0</td>\n      <td>0.0</td>\n      <td>0.0</td>\n      <td>0.0</td>\n      <td>0.0</td>\n      <td>0.0</td>\n      <td>0.0</td>\n      <td>0.0</td>\n      <td>0.0</td>\n      <td>21.0</td>\n    </tr>\n    <tr>\n      <th>3149</th>\n      <td>–</td>\n      <td>Ignorado</td>\n      <td>1288.0</td>\n      <td>1119.0</td>\n      <td>1303.0</td>\n      <td>1165.0</td>\n      <td>1428.0</td>\n      <td>1409.0</td>\n      <td>1299.0</td>\n      <td>1654.0</td>\n      <td>1351.0</td>\n      <td>1790.0</td>\n      <td>1491.0</td>\n      <td>1320.0</td>\n      <td>1.0</td>\n    </tr>\n    <tr>\n      <th>3150</th>\n      <td>NaN</td>\n      <td>NaN</td>\n      <td>179352.0</td>\n      <td>167920.0</td>\n      <td>199607.0</td>\n      <td>172391.0</td>\n      <td>210247.0</td>\n      <td>191641.0</td>\n      <td>186290.0</td>\n      <td>240518.0</td>\n      <td>191250.0</td>\n      <td>218821.0</td>\n      <td>195823.0</td>\n      <td>175808.0</td>\n      <td>36017.0</td>\n    </tr>\n  </tbody>\n</table>\n<p>3151 rows × 15 columns</p>\n</div>"
     },
     "metadata": {},
     "execution_count": 22
    }
   ],
   "source": [
    "df"
   ]
  }
 ]
}