{
 "metadata": {
  "language_info": {
   "codemirror_mode": {
    "name": "ipython",
    "version": 3
   },
   "file_extension": ".py",
   "mimetype": "text/x-python",
   "name": "python",
   "nbconvert_exporter": "python",
   "pygments_lexer": "ipython3",
   "version": "3.7.9-final"
  },
  "orig_nbformat": 2,
  "kernelspec": {
   "name": "python3",
   "display_name": "Python 3.7.9 64-bit ('venv')",
   "metadata": {
    "interpreter": {
     "hash": "662864e56f1a66ca488c8a555074fad2defac2bbe9d68bb4d4f0d8f034c38ba4"
    }
   }
  }
 },
 "nbformat": 4,
 "nbformat_minor": 2,
 "cells": [
  {
   "cell_type": "code",
   "execution_count": 1,
   "metadata": {},
   "outputs": [],
   "source": [
    "import re\n",
    "import pdfplumber\n",
    "import pandas as pd\n",
    "from collections import namedtuple\n",
    "import glob\n",
    "import os"
   ]
  },
  {
   "cell_type": "code",
   "execution_count": 102,
   "metadata": {},
   "outputs": [
    {
     "output_type": "error",
     "ename": "NameError",
     "evalue": "name 'os' is not defined",
     "traceback": [
      "\u001b[1;31m---------------------------------------------------------------------------\u001b[0m",
      "\u001b[1;31mNameError\u001b[0m                                 Traceback (most recent call last)",
      "\u001b[1;32m<ipython-input-102-49e0fe1e316d>\u001b[0m in \u001b[0;36m<module>\u001b[1;34m\u001b[0m\n\u001b[0;32m      2\u001b[0m \u001b[0mline_re\u001b[0m \u001b[1;33m=\u001b[0m\u001b[0mre\u001b[0m\u001b[1;33m.\u001b[0m\u001b[0mcompile\u001b[0m\u001b[1;33m(\u001b[0m\u001b[1;34mr'(^\\w{1}\\d{2}[*†]*|[^\\-\\w]) ([\\s\\S]+(?<=[A-Za-z(),[\\]\\\"áàâãéèêíïóôõöúçñÁÀÂÃÉÈÊÍÏÓÔÕÖÚÇÑ])) ([\\s\\S]+(?![0-9 -]))'\u001b[0m\u001b[1;33m,\u001b[0m \u001b[0mflags\u001b[0m\u001b[1;33m=\u001b[0m\u001b[1;36m2\u001b[0m\u001b[1;33m)\u001b[0m\u001b[1;33m\u001b[0m\u001b[1;33m\u001b[0m\u001b[0m\n\u001b[0;32m      3\u001b[0m \u001b[0mpdffiles\u001b[0m \u001b[1;33m=\u001b[0m \u001b[1;33m[\u001b[0m\u001b[1;33m]\u001b[0m\u001b[1;33m\u001b[0m\u001b[1;33m\u001b[0m\u001b[0m\n\u001b[1;32m----> 4\u001b[1;33m \u001b[0mpdffiles\u001b[0m \u001b[1;33m=\u001b[0m \u001b[1;33m[\u001b[0m\u001b[0mos\u001b[0m\u001b[1;33m.\u001b[0m\u001b[0mpath\u001b[0m\u001b[1;33m.\u001b[0m\u001b[0mbasename\u001b[0m\u001b[1;33m(\u001b[0m\u001b[0mx\u001b[0m\u001b[1;33m)\u001b[0m \u001b[1;32mfor\u001b[0m \u001b[0mx\u001b[0m \u001b[1;32min\u001b[0m \u001b[0mglob\u001b[0m\u001b[1;33m.\u001b[0m\u001b[0mglob\u001b[0m\u001b[1;33m(\u001b[0m\u001b[1;34m'data\\\\*.pdf'\u001b[0m\u001b[1;33m)\u001b[0m\u001b[1;33m]\u001b[0m\u001b[1;33m\u001b[0m\u001b[1;33m\u001b[0m\u001b[0m\n\u001b[0m\u001b[0;32m      5\u001b[0m \u001b[1;32mfor\u001b[0m \u001b[0mcNome\u001b[0m \u001b[1;32min\u001b[0m \u001b[0mpdffiles\u001b[0m\u001b[1;33m:\u001b[0m\u001b[1;33m\u001b[0m\u001b[1;33m\u001b[0m\u001b[0m\n\u001b[0;32m      6\u001b[0m     \u001b[0mfile\u001b[0m\u001b[1;33m=\u001b[0m\u001b[1;34m\"data\\\\\"\u001b[0m\u001b[1;33m+\u001b[0m\u001b[0mcNome\u001b[0m\u001b[1;33m\u001b[0m\u001b[1;33m\u001b[0m\u001b[0m\n",
      "\u001b[1;32m<ipython-input-102-49e0fe1e316d>\u001b[0m in \u001b[0;36m<listcomp>\u001b[1;34m(.0)\u001b[0m\n\u001b[0;32m      2\u001b[0m \u001b[0mline_re\u001b[0m \u001b[1;33m=\u001b[0m\u001b[0mre\u001b[0m\u001b[1;33m.\u001b[0m\u001b[0mcompile\u001b[0m\u001b[1;33m(\u001b[0m\u001b[1;34mr'(^\\w{1}\\d{2}[*†]*|[^\\-\\w]) ([\\s\\S]+(?<=[A-Za-z(),[\\]\\\"áàâãéèêíïóôõöúçñÁÀÂÃÉÈÊÍÏÓÔÕÖÚÇÑ])) ([\\s\\S]+(?![0-9 -]))'\u001b[0m\u001b[1;33m,\u001b[0m \u001b[0mflags\u001b[0m\u001b[1;33m=\u001b[0m\u001b[1;36m2\u001b[0m\u001b[1;33m)\u001b[0m\u001b[1;33m\u001b[0m\u001b[1;33m\u001b[0m\u001b[0m\n\u001b[0;32m      3\u001b[0m \u001b[0mpdffiles\u001b[0m \u001b[1;33m=\u001b[0m \u001b[1;33m[\u001b[0m\u001b[1;33m]\u001b[0m\u001b[1;33m\u001b[0m\u001b[1;33m\u001b[0m\u001b[0m\n\u001b[1;32m----> 4\u001b[1;33m \u001b[0mpdffiles\u001b[0m \u001b[1;33m=\u001b[0m \u001b[1;33m[\u001b[0m\u001b[0mos\u001b[0m\u001b[1;33m.\u001b[0m\u001b[0mpath\u001b[0m\u001b[1;33m.\u001b[0m\u001b[0mbasename\u001b[0m\u001b[1;33m(\u001b[0m\u001b[0mx\u001b[0m\u001b[1;33m)\u001b[0m \u001b[1;32mfor\u001b[0m \u001b[0mx\u001b[0m \u001b[1;32min\u001b[0m \u001b[0mglob\u001b[0m\u001b[1;33m.\u001b[0m\u001b[0mglob\u001b[0m\u001b[1;33m(\u001b[0m\u001b[1;34m'data\\\\*.pdf'\u001b[0m\u001b[1;33m)\u001b[0m\u001b[1;33m]\u001b[0m\u001b[1;33m\u001b[0m\u001b[1;33m\u001b[0m\u001b[0m\n\u001b[0m\u001b[0;32m      5\u001b[0m \u001b[1;32mfor\u001b[0m \u001b[0mcNome\u001b[0m \u001b[1;32min\u001b[0m \u001b[0mpdffiles\u001b[0m\u001b[1;33m:\u001b[0m\u001b[1;33m\u001b[0m\u001b[1;33m\u001b[0m\u001b[0m\n\u001b[0;32m      6\u001b[0m     \u001b[0mfile\u001b[0m\u001b[1;33m=\u001b[0m\u001b[1;34m\"data\\\\\"\u001b[0m\u001b[1;33m+\u001b[0m\u001b[0mcNome\u001b[0m\u001b[1;33m\u001b[0m\u001b[1;33m\u001b[0m\u001b[0m\n",
      "\u001b[1;31mNameError\u001b[0m: name 'os' is not defined"
     ]
    }
   ],
   "source": [
    "Line = namedtuple(\"Line\",\"CID10 DESC JANEIRO FEVEREIRO MARÇO ABRIL MAIO JUNHO JULHO AGOSTO SETEMBRO OUTUBRO NOVEMBRO DEZEMBRO\")\n",
    "line_re =re.compile(r'(^\\w{1}\\d{2}[*†]*|[^\\-\\w]) ([\\s\\S]+(?<=[A-Za-z(),[\\]\\\"áàâãéèêíïóôõöúçñÁÀÂÃÉÈÊÍÏÓÔÕÖÚÇÑ])) ([\\s\\S]+(?![0-9 -]))', flags=2)\n",
    "pdffiles = []\n",
    "pdffiles = [os.path.basename(x) for x in glob.glob('data\\\\*.pdf')]\n",
    "for cNome in pdffiles:\n",
    "    file=\"data\\\\\"+cNome\n",
    "    lines =[]\n",
    "    total_check =0 \n",
    "    with pdfplumber.open(file) as pdf:\n",
    "        pages = pdf.pages\n",
    "        for page in pdf.pages:\n",
    "            text= page.extract_text(x_tolerance=5, y_tolerance=2)\n",
    "            for line in text.split('\\n'):\n",
    "                comp =line_re.search(line)\n",
    "                if comp:\n",
    "                    CID, CID_DES, DADOS = comp.group(1), comp.group(2) , comp.group(3)\n",
    "                    DADOS = DADOS.replace(\".\",\"\")\n",
    "                    DADOS = re.sub(r'(\\d)\\s(\\d)', r'\\1\\2', DADOS)\n",
    "                    items = DADOS.split()\n",
    "                    if(len(items)==12):\n",
    "                        lines.append(Line(CID,CID_DES,*items))\n",
    "    dfCat =  pd.read_csv(\"data//CID-10-CAPITULOS.csv\",delimiter=\";\",encoding='cp1252')\n",
    "    dfCat.drop(columns='Unnamed: 5',axis=1,inplace=True)\n",
    "    df = pd.DataFrame(lines)\n",
    "    cols = df.iloc[:,2:len(df)].columns\n",
    "    df.iloc[:,2:len(df)].replace(\"–\",0,inplace=True)\n",
    "    df[cols] = df[cols].apply(pd.to_numeric,errors='coerce')\n",
    "    df = df.assign(key=1).merge(dfCat.assign(key=1), on='key')\\\n",
    "                 .drop(columns='key')\\\n",
    "                 .query(\"CID10.between(CATINIC,CATFIM)|CID10.str.contains('–')\")\\\n",
    "                 .drop(columns=['CATINIC', 'CATFIM','DESCRICAO','DESCRABREV'])\\\n",
    "                 .reset_index(drop=True)\n",
    "    df.drop_duplicates(subset=['CID10','JANEIRO','FEVEREIRO','MARÇO','ABRIL','MAIO','JUNHO','JULHO','AGOSTO','SETEMBRO','OUTUBRO','NOVEMBRO','DEZEMBRO'],keep='first',inplace=True)\n",
    "    df = df.append(df.sum(numeric_only=True), ignore_index=True)\n",
    "    cNome =cNome.replace(\".pdf\",\"\")\n",
    "    df.to_excel(cNome+\".xlsx\",sheet_name=cNome)\n",
    "    df.to_csv(cNome+\".csv\")"
   ]
  }
 ]
}