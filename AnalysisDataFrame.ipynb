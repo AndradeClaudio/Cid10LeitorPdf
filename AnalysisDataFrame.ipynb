{
 "metadata": {
  "language_info": {
   "codemirror_mode": {
    "name": "ipython",
    "version": 3
   },
   "file_extension": ".py",
   "mimetype": "text/x-python",
   "name": "python",
   "nbconvert_exporter": "python",
   "pygments_lexer": "ipython3",
   "version": "3.7.9-final"
  },
  "orig_nbformat": 2,
  "kernelspec": {
   "name": "python3",
   "display_name": "Python 3.7.9 64-bit ('venv')",
   "metadata": {
    "interpreter": {
     "hash": "662864e56f1a66ca488c8a555074fad2defac2bbe9d68bb4d4f0d8f034c38ba4"
    }
   }
  }
 },
 "nbformat": 4,
 "nbformat_minor": 2,
 "cells": [
  {
   "cell_type": "code",
   "execution_count": 98,
   "metadata": {},
   "outputs": [],
   "source": [
    "import pandas as pd\n",
    "import glob\n",
    "import os\n",
    "import re"
   ]
  },
  {
   "cell_type": "code",
   "execution_count": 99,
   "metadata": {},
   "outputs": [],
   "source": [
    "xlsxfiles = [os.path.basename(x) for x in glob.glob('data\\\\*Previdenciarios.xlsx')]\n",
    "line_re =re.compile(r'(\\d{4})')\n",
    "cols =['CID10','JANEIRO', 'FEVEREIRO', 'MARÇO', 'ABRIL',\n",
    "       'MAIO', 'JUNHO', 'JULHO', 'AGOSTO', 'SETEMBRO', 'OUTUBRO', 'NOVEMBRO',\n",
    "       'DEZEMBRO']\n",
    "dfresult = pd.DataFrame(columns=['CID10', 'MES', 'VALOR', 'ANO'])"
   ]
  },
  {
   "cell_type": "code",
   "execution_count": 100,
   "metadata": {},
   "outputs": [],
   "source": [
    "for cNome in xlsxfiles:\n",
    "    comp =line_re.search(cNome)\n",
    "    df = pd.read_excel(\"data\\\\\"+cNome)\n",
    "    df = df[cols].set_index('CID10').stack().reset_index()\n",
    "    df = df.rename(columns={'level_1': 'MES', 0: 'VALOR'})\n",
    "    comp =line_re.search(cNome)\n",
    "    df['ANO'] =comp.group(0)\n",
    "    dfresult = dfresult.append(df)"
   ]
  },
  {
   "cell_type": "code",
   "execution_count": 104,
   "metadata": {},
   "outputs": [
    {
     "output_type": "execute_result",
     "data": {
      "text/plain": [
       "0       A00\n",
       "1       A00\n",
       "2       A00\n",
       "3       A00\n",
       "4       A00\n",
       "       ... \n",
       "5155    NaN\n",
       "5156    NaN\n",
       "5157    NaN\n",
       "5158    NaN\n",
       "5159    NaN\n",
       "Name: CID10, Length: 203532, dtype: object"
      ]
     },
     "metadata": {},
     "execution_count": 104
    }
   ],
   "source": [
    "dfresult['CID10']"
   ]
  },
  {
   "cell_type": "code",
   "execution_count": null,
   "metadata": {},
   "outputs": [],
   "source": []
  }
 ]
}