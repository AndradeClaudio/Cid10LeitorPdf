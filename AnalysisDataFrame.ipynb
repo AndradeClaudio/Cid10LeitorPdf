{
 "metadata": {
  "language_info": {
   "codemirror_mode": {
    "name": "ipython",
    "version": 3
   },
   "file_extension": ".py",
   "mimetype": "text/x-python",
   "name": "python",
   "nbconvert_exporter": "python",
   "pygments_lexer": "ipython3",
   "version": "3.7.9-final"
  },
  "orig_nbformat": 2,
  "kernelspec": {
   "name": "python3",
   "display_name": "Python 3.7.9 64-bit ('venv')",
   "metadata": {
    "interpreter": {
     "hash": "662864e56f1a66ca488c8a555074fad2defac2bbe9d68bb4d4f0d8f034c38ba4"
    }
   }
  }
 },
 "nbformat": 4,
 "nbformat_minor": 2,
 "cells": [
  {
   "cell_type": "code",
   "execution_count": 112,
   "metadata": {},
   "outputs": [],
   "source": [
    "import pandas as pd\n",
    "import glob\n",
    "import os\n",
    "import re"
   ]
  },
  {
   "cell_type": "code",
   "execution_count": 191,
   "metadata": {},
   "outputs": [],
   "source": [
    "line_re =re.compile(r'(\\d{4})')\n",
    "cols =['CID10',1,2,3,4,5,6,7,8,9,10,11,12]\n",
    "dfresult = pd.DataFrame(columns=['CID10', 'MES', 'VALOR', 'ANO','DATA'])"
   ]
  },
  {
   "cell_type": "code",
   "execution_count": 192,
   "metadata": {},
   "outputs": [],
   "source": [
    "xlsxfiles = [os.path.basename(x) for x in glob.glob('data\\\\*Previdenciarios.xlsx')]\n",
    "for cNome in xlsxfiles:\n",
    "    df = pd.read_excel(\"data\\\\\"+cNome)\n",
    "    df = df.rename(columns={'JANEIRO': 1,'FEVEREIRO': 2,'MARÇO': 3,'ABRIL': 4,'MAIO': 5,'JUNHO': 6,'JULHO': 7,'AGOSTO': 8,'SETEMBRO': 9,'OUTUBRO': 10,'NOVEMBRO': 11,'DEZEMBRO': 12 })\n",
    "    df = df[cols].set_index('CID10').stack().reset_index()\n",
    "    df = df.rename(columns={'level_1': 'MES', 0: 'VALOR'})\n",
    "    comp =line_re.search(cNome)\n",
    "    df['ANO'] =int(comp.group(0))\n",
    "    df['DATA'] = pd.to_datetime(df.ANO*10000+df.MES*100+1,format='%Y%m%d')\n",
    "    dfresult = dfresult.append(df)\n",
    "#a partir de 2017 o formarto no excel é diferente. Foi necessário fazer novo tratamento.\n",
    "xlsxfiles = [os.path.basename(x) for x in glob.glob('data\\\\*PrevidenciariosN.xlsx')]\n",
    "for cNome in xlsxfiles:\n",
    "    df = pd.read_excel(\"data\\\\\"+cNome, header=14)\n",
    "    df['CID10'] = df['CID10 CATEGORIA'].str.extract(r'(\\w{1}\\d{2})')\n",
    "    df.dropna(inplace=True)\n",
    "    df = df[df.CID10 != '999']\n",
    "    df = df[df.CID10 != '990']\n",
    "    df=df.drop(['CID10 CATEGORIA'], axis=1)\n",
    "    df.columns = map(str.upper, df.columns)\n",
    "    df = df.rename(columns={'JANEIRO': 1,'FEVEREIRO': 2,'MARÇO': 3,'ABRIL': 4,'MAIO': 5,'JUNHO': 6,'JULHO': 7,'AGOSTO': 8,'SETEMBRO': 9,'OUTUBRO': 10,'NOVEMBRO': 11,'DEZEMBRO': 12,'JUNÃO':6 })\n",
    "    df = df[cols].set_index('CID10').stack().reset_index()\n",
    "    df = df.rename(columns={'level_1': 'MES', 0: 'VALOR'})\n",
    "    comp =line_re.search(cNome)\n",
    "    df['ANO'] =int(comp.group(0)) \n",
    "    df['DATA'] = pd.to_datetime(df.ANO*10000+df.MES*100+1,format='%Y%m%d')\n",
    "    dfresult = dfresult.append(df)\n",
    "dfresult['CID10'] = dfresult['CID10'].fillna('–')\n",
    "dfresult.to_csv('data\\\\agrupado.csv')\n",
    "dfresult.to_excel('data\\\\agrupado.xlsx')"
   ]
  }
 ]
}